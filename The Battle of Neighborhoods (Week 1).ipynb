{
 "cells": [
  {
   "cell_type": "markdown",
   "metadata": {},
   "source": [
    "# The Battle of Neighborhoods (Week 1)"
   ]
  },
  {
   "cell_type": "markdown",
   "metadata": {},
   "source": [
    "## Description of the problem and discussion of the background"
   ]
  },
  {
   "cell_type": "markdown",
   "metadata": {},
   "source": [
    "### Introduction"
   ]
  },
  {
   "cell_type": "markdown",
   "metadata": {},
   "source": [
    "__New office for a start-up company (http://example.com/) in Berlin__<br>\n",
    "The founders of a fast growing start-up company need new offices as the old offices have become too small.\n",
    "To be attractive for new employees, the founders developed some criteria to identify the ideal location for the new offices."
   ]
  },
  {
   "cell_type": "markdown",
   "metadata": {},
   "source": [
    "### Business Problem"
   ]
  },
  {
   "cell_type": "markdown",
   "metadata": {},
   "source": [
    "__Finding the best location for the new offices__<br>\n",
    "As a result of the strong growth of their start-up, the founders of example.com are looking for new office space in Berlin.<br>\n",
    "An attractive location is an important factor in the competition for new talents.<br> \n",
    "The founders wish to be close to universities in order to ensure a close exchange with research and to recruit new candidates as early as possible.<br>\n",
    "The young employees prefer a good accessibility by public transport, plenty of options to eat and opportunities to exercise after work.<br>\n",
    "After successful financing by venture capital, rental prices are not the critical argument, but could be added later."
   ]
  },
  {
   "cell_type": "markdown",
   "metadata": {},
   "source": [
    "## Data Description"
   ]
  },
  {
   "attachments": {},
   "cell_type": "markdown",
   "metadata": {},
   "source": [
    "__To find the most attractive place to open a new office the following data is required:__\n",
    "    - The List of boroughs and neighborhoods of Berlin\n",
    "      Source: https://de.wikipedia.org/wiki/Liste_der_Bezirke_und_Ortsteile_Berlins\n",
    "    - The coordinates (latitude, longitude) of these Neighborhoods\n",
    "      Source: GeoPy\n",
    "    - Foursquare:\n",
    "      The universities in each neighbourhood\n",
    "      Public transport in each neighbourhood (Metro, Tram, Bus)\n",
    "      Diner and snack places in each neighbourhood\n",
    "      Gym/Fitness Center in each neighbourhood\n",
    "\n",
    "Each of the neighbourhoods is assessed according to the existing requirements. The requirements are weighted according to the importance of the individual preferences in order to calculate a final score."
   ]
  }
 ],
 "metadata": {
  "kernelspec": {
   "display_name": "Python 3",
   "language": "python",
   "name": "python3"
  },
  "language_info": {
   "codemirror_mode": {
    "name": "ipython",
    "version": 3
   },
   "file_extension": ".py",
   "mimetype": "text/x-python",
   "name": "python",
   "nbconvert_exporter": "python",
   "pygments_lexer": "ipython3",
   "version": "3.7.1"
  }
 },
 "nbformat": 4,
 "nbformat_minor": 2
}
